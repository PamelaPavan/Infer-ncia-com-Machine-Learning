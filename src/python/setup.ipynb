{
 "cells": [
  {
   "cell_type": "markdown",
   "metadata": {},
   "source": [
    "# Env setup\n",
    "\n",
    "Instalação das bibliotecas que serão utilizadas. Pode ser usado tanto em um venv quanto com o kernel default."
   ]
  },
  {
   "cell_type": "code",
   "execution_count": 4,
   "metadata": {},
   "outputs": [
    {
     "name": "stdout",
     "output_type": "stream",
     "text": [
      "Requirement already satisfied: ipykernel in c:\\users\\pedro\\dev\\github\\sprints-4-5-pb-aws-abril\\src\\python\\.venv\\lib\\site-packages (from -r requirements.txt (line 1)) (6.29.4)\n",
      "Requirement already satisfied: boto3 in c:\\users\\pedro\\dev\\github\\sprints-4-5-pb-aws-abril\\src\\python\\.venv\\lib\\site-packages (from -r requirements.txt (line 2)) (1.34.131)\n",
      "Requirement already satisfied: sagemaker in c:\\users\\pedro\\dev\\github\\sprints-4-5-pb-aws-abril\\src\\python\\.venv\\lib\\site-packages (from -r requirements.txt (line 3)) (2.224.0)\n",
      "Requirement already satisfied: python-dotenv in c:\\users\\pedro\\dev\\github\\sprints-4-5-pb-aws-abril\\src\\python\\.venv\\lib\\site-packages (from -r requirements.txt (line 4)) (1.0.1)\n",
      "Requirement already satisfied: numpy in c:\\users\\pedro\\dev\\github\\sprints-4-5-pb-aws-abril\\src\\python\\.venv\\lib\\site-packages (from -r requirements.txt (line 5)) (1.26.4)\n",
      "Requirement already satisfied: pandas in c:\\users\\pedro\\dev\\github\\sprints-4-5-pb-aws-abril\\src\\python\\.venv\\lib\\site-packages (from -r requirements.txt (line 6)) (2.2.2)\n",
      "Requirement already satisfied: matplotlib in c:\\users\\pedro\\dev\\github\\sprints-4-5-pb-aws-abril\\src\\python\\.venv\\lib\\site-packages (from -r requirements.txt (line 7)) (3.9.0)\n",
      "Requirement already satisfied: seaborn in c:\\users\\pedro\\dev\\github\\sprints-4-5-pb-aws-abril\\src\\python\\.venv\\lib\\site-packages (from -r requirements.txt (line 8)) (0.13.2)\n",
      "Requirement already satisfied: scikit-learn in c:\\users\\pedro\\dev\\github\\sprints-4-5-pb-aws-abril\\src\\python\\.venv\\lib\\site-packages (from -r requirements.txt (line 9)) (1.5.0)\n",
      "Requirement already satisfied: joblib in c:\\users\\pedro\\dev\\github\\sprints-4-5-pb-aws-abril\\src\\python\\.venv\\lib\\site-packages (from -r requirements.txt (line 10)) (1.4.2)\n",
      "Requirement already satisfied: xgboost in c:\\users\\pedro\\dev\\github\\sprints-4-5-pb-aws-abril\\src\\python\\.venv\\lib\\site-packages (from -r requirements.txt (line 11)) (2.1.0)\n",
      "Requirement already satisfied: pymysql in c:\\users\\pedro\\dev\\github\\sprints-4-5-pb-aws-abril\\src\\python\\.venv\\lib\\site-packages (from -r requirements.txt (line 12)) (1.1.1)\n",
      "Requirement already satisfied: optuna in c:\\users\\pedro\\dev\\github\\sprints-4-5-pb-aws-abril\\src\\python\\.venv\\lib\\site-packages (from -r requirements.txt (line 13)) (3.6.1)\n",
      "Requirement already satisfied: optuna-integration in c:\\users\\pedro\\dev\\github\\sprints-4-5-pb-aws-abril\\src\\python\\.venv\\lib\\site-packages (from -r requirements.txt (line 14)) (3.6.0)\n",
      "Requirement already satisfied: tensorflow in c:\\users\\pedro\\dev\\github\\sprints-4-5-pb-aws-abril\\src\\python\\.venv\\lib\\site-packages (from -r requirements.txt (line 15)) (2.16.1)\n",
      "Requirement already satisfied: imblearn in c:\\users\\pedro\\dev\\github\\sprints-4-5-pb-aws-abril\\src\\python\\.venv\\lib\\site-packages (from -r requirements.txt (line 16)) (0.0)\n",
      "Requirement already satisfied: sqlalchemy in c:\\users\\pedro\\dev\\github\\sprints-4-5-pb-aws-abril\\src\\python\\.venv\\lib\\site-packages (from -r requirements.txt (line 17)) (2.0.31)\n",
      "Requirement already satisfied: comm>=0.1.1 in c:\\users\\pedro\\dev\\github\\sprints-4-5-pb-aws-abril\\src\\python\\.venv\\lib\\site-packages (from ipykernel->-r requirements.txt (line 1)) (0.2.2)\n",
      "Requirement already satisfied: debugpy>=1.6.5 in c:\\users\\pedro\\dev\\github\\sprints-4-5-pb-aws-abril\\src\\python\\.venv\\lib\\site-packages (from ipykernel->-r requirements.txt (line 1)) (1.8.1)\n",
      "Requirement already satisfied: ipython>=7.23.1 in c:\\users\\pedro\\dev\\github\\sprints-4-5-pb-aws-abril\\src\\python\\.venv\\lib\\site-packages (from ipykernel->-r requirements.txt (line 1)) (8.25.0)\n",
      "Requirement already satisfied: jupyter-client>=6.1.12 in c:\\users\\pedro\\dev\\github\\sprints-4-5-pb-aws-abril\\src\\python\\.venv\\lib\\site-packages (from ipykernel->-r requirements.txt (line 1)) (8.6.2)\n",
      "Requirement already satisfied: jupyter-core!=5.0.*,>=4.12 in c:\\users\\pedro\\dev\\github\\sprints-4-5-pb-aws-abril\\src\\python\\.venv\\lib\\site-packages (from ipykernel->-r requirements.txt (line 1)) (5.7.2)\n",
      "Requirement already satisfied: matplotlib-inline>=0.1 in c:\\users\\pedro\\dev\\github\\sprints-4-5-pb-aws-abril\\src\\python\\.venv\\lib\\site-packages (from ipykernel->-r requirements.txt (line 1)) (0.1.7)\n",
      "Requirement already satisfied: nest-asyncio in c:\\users\\pedro\\dev\\github\\sprints-4-5-pb-aws-abril\\src\\python\\.venv\\lib\\site-packages (from ipykernel->-r requirements.txt (line 1)) (1.6.0)\n",
      "Requirement already satisfied: packaging in c:\\users\\pedro\\dev\\github\\sprints-4-5-pb-aws-abril\\src\\python\\.venv\\lib\\site-packages (from ipykernel->-r requirements.txt (line 1)) (24.1)\n",
      "Requirement already satisfied: psutil in c:\\users\\pedro\\dev\\github\\sprints-4-5-pb-aws-abril\\src\\python\\.venv\\lib\\site-packages (from ipykernel->-r requirements.txt (line 1)) (6.0.0)\n",
      "Requirement already satisfied: pyzmq>=24 in c:\\users\\pedro\\dev\\github\\sprints-4-5-pb-aws-abril\\src\\python\\.venv\\lib\\site-packages (from ipykernel->-r requirements.txt (line 1)) (26.0.3)\n",
      "Requirement already satisfied: tornado>=6.1 in c:\\users\\pedro\\dev\\github\\sprints-4-5-pb-aws-abril\\src\\python\\.venv\\lib\\site-packages (from ipykernel->-r requirements.txt (line 1)) (6.4.1)\n",
      "Requirement already satisfied: traitlets>=5.4.0 in c:\\users\\pedro\\dev\\github\\sprints-4-5-pb-aws-abril\\src\\python\\.venv\\lib\\site-packages (from ipykernel->-r requirements.txt (line 1)) (5.14.3)\n",
      "Requirement already satisfied: botocore<1.35.0,>=1.34.131 in c:\\users\\pedro\\dev\\github\\sprints-4-5-pb-aws-abril\\src\\python\\.venv\\lib\\site-packages (from boto3->-r requirements.txt (line 2)) (1.34.131)\n",
      "Requirement already satisfied: jmespath<2.0.0,>=0.7.1 in c:\\users\\pedro\\dev\\github\\sprints-4-5-pb-aws-abril\\src\\python\\.venv\\lib\\site-packages (from boto3->-r requirements.txt (line 2)) (1.0.1)\n",
      "Requirement already satisfied: s3transfer<0.11.0,>=0.10.0 in c:\\users\\pedro\\dev\\github\\sprints-4-5-pb-aws-abril\\src\\python\\.venv\\lib\\site-packages (from boto3->-r requirements.txt (line 2)) (0.10.1)\n",
      "Requirement already satisfied: attrs<24,>=23.1.0 in c:\\users\\pedro\\dev\\github\\sprints-4-5-pb-aws-abril\\src\\python\\.venv\\lib\\site-packages (from sagemaker->-r requirements.txt (line 3)) (23.2.0)\n",
      "Requirement already satisfied: cloudpickle==2.2.1 in c:\\users\\pedro\\dev\\github\\sprints-4-5-pb-aws-abril\\src\\python\\.venv\\lib\\site-packages (from sagemaker->-r requirements.txt (line 3)) (2.2.1)\n",
      "Requirement already satisfied: google-pasta in c:\\users\\pedro\\dev\\github\\sprints-4-5-pb-aws-abril\\src\\python\\.venv\\lib\\site-packages (from sagemaker->-r requirements.txt (line 3)) (0.2.0)\n",
      "Requirement already satisfied: protobuf<5.0,>=3.12 in c:\\users\\pedro\\dev\\github\\sprints-4-5-pb-aws-abril\\src\\python\\.venv\\lib\\site-packages (from sagemaker->-r requirements.txt (line 3)) (4.25.3)\n",
      "Requirement already satisfied: smdebug-rulesconfig==1.0.1 in c:\\users\\pedro\\dev\\github\\sprints-4-5-pb-aws-abril\\src\\python\\.venv\\lib\\site-packages (from sagemaker->-r requirements.txt (line 3)) (1.0.1)\n",
      "Requirement already satisfied: importlib-metadata<7.0,>=1.4.0 in c:\\users\\pedro\\dev\\github\\sprints-4-5-pb-aws-abril\\src\\python\\.venv\\lib\\site-packages (from sagemaker->-r requirements.txt (line 3)) (6.11.0)\n",
      "Requirement already satisfied: pathos in c:\\users\\pedro\\dev\\github\\sprints-4-5-pb-aws-abril\\src\\python\\.venv\\lib\\site-packages (from sagemaker->-r requirements.txt (line 3)) (0.3.2)\n",
      "Requirement already satisfied: schema in c:\\users\\pedro\\dev\\github\\sprints-4-5-pb-aws-abril\\src\\python\\.venv\\lib\\site-packages (from sagemaker->-r requirements.txt (line 3)) (0.7.7)\n",
      "Requirement already satisfied: PyYAML~=6.0 in c:\\users\\pedro\\dev\\github\\sprints-4-5-pb-aws-abril\\src\\python\\.venv\\lib\\site-packages (from sagemaker->-r requirements.txt (line 3)) (6.0.1)\n",
      "Requirement already satisfied: jsonschema in c:\\users\\pedro\\dev\\github\\sprints-4-5-pb-aws-abril\\src\\python\\.venv\\lib\\site-packages (from sagemaker->-r requirements.txt (line 3)) (4.22.0)\n",
      "Requirement already satisfied: platformdirs in c:\\users\\pedro\\dev\\github\\sprints-4-5-pb-aws-abril\\src\\python\\.venv\\lib\\site-packages (from sagemaker->-r requirements.txt (line 3)) (4.2.2)\n",
      "Requirement already satisfied: tblib<4,>=1.7.0 in c:\\users\\pedro\\dev\\github\\sprints-4-5-pb-aws-abril\\src\\python\\.venv\\lib\\site-packages (from sagemaker->-r requirements.txt (line 3)) (3.0.0)\n",
      "Requirement already satisfied: urllib3<3.0.0,>=1.26.8 in c:\\users\\pedro\\dev\\github\\sprints-4-5-pb-aws-abril\\src\\python\\.venv\\lib\\site-packages (from sagemaker->-r requirements.txt (line 3)) (2.2.2)\n",
      "Requirement already satisfied: requests in c:\\users\\pedro\\dev\\github\\sprints-4-5-pb-aws-abril\\src\\python\\.venv\\lib\\site-packages (from sagemaker->-r requirements.txt (line 3)) (2.32.3)\n",
      "Requirement already satisfied: docker in c:\\users\\pedro\\dev\\github\\sprints-4-5-pb-aws-abril\\src\\python\\.venv\\lib\\site-packages (from sagemaker->-r requirements.txt (line 3)) (7.1.0)\n",
      "Requirement already satisfied: tqdm in c:\\users\\pedro\\dev\\github\\sprints-4-5-pb-aws-abril\\src\\python\\.venv\\lib\\site-packages (from sagemaker->-r requirements.txt (line 3)) (4.66.4)\n",
      "Requirement already satisfied: python-dateutil>=2.8.2 in c:\\users\\pedro\\dev\\github\\sprints-4-5-pb-aws-abril\\src\\python\\.venv\\lib\\site-packages (from pandas->-r requirements.txt (line 6)) (2.9.0.post0)\n",
      "Requirement already satisfied: pytz>=2020.1 in c:\\users\\pedro\\dev\\github\\sprints-4-5-pb-aws-abril\\src\\python\\.venv\\lib\\site-packages (from pandas->-r requirements.txt (line 6)) (2024.1)\n",
      "Requirement already satisfied: tzdata>=2022.7 in c:\\users\\pedro\\dev\\github\\sprints-4-5-pb-aws-abril\\src\\python\\.venv\\lib\\site-packages (from pandas->-r requirements.txt (line 6)) (2024.1)\n",
      "Requirement already satisfied: contourpy>=1.0.1 in c:\\users\\pedro\\dev\\github\\sprints-4-5-pb-aws-abril\\src\\python\\.venv\\lib\\site-packages (from matplotlib->-r requirements.txt (line 7)) (1.2.1)\n",
      "Requirement already satisfied: cycler>=0.10 in c:\\users\\pedro\\dev\\github\\sprints-4-5-pb-aws-abril\\src\\python\\.venv\\lib\\site-packages (from matplotlib->-r requirements.txt (line 7)) (0.12.1)\n",
      "Requirement already satisfied: fonttools>=4.22.0 in c:\\users\\pedro\\dev\\github\\sprints-4-5-pb-aws-abril\\src\\python\\.venv\\lib\\site-packages (from matplotlib->-r requirements.txt (line 7)) (4.53.0)\n",
      "Requirement already satisfied: kiwisolver>=1.3.1 in c:\\users\\pedro\\dev\\github\\sprints-4-5-pb-aws-abril\\src\\python\\.venv\\lib\\site-packages (from matplotlib->-r requirements.txt (line 7)) (1.4.5)\n",
      "Requirement already satisfied: pillow>=8 in c:\\users\\pedro\\dev\\github\\sprints-4-5-pb-aws-abril\\src\\python\\.venv\\lib\\site-packages (from matplotlib->-r requirements.txt (line 7)) (10.3.0)\n",
      "Requirement already satisfied: pyparsing>=2.3.1 in c:\\users\\pedro\\dev\\github\\sprints-4-5-pb-aws-abril\\src\\python\\.venv\\lib\\site-packages (from matplotlib->-r requirements.txt (line 7)) (3.1.2)\n",
      "Requirement already satisfied: scipy>=1.6.0 in c:\\users\\pedro\\dev\\github\\sprints-4-5-pb-aws-abril\\src\\python\\.venv\\lib\\site-packages (from scikit-learn->-r requirements.txt (line 9)) (1.13.1)\n",
      "Requirement already satisfied: threadpoolctl>=3.1.0 in c:\\users\\pedro\\dev\\github\\sprints-4-5-pb-aws-abril\\src\\python\\.venv\\lib\\site-packages (from scikit-learn->-r requirements.txt (line 9)) (3.5.0)\n",
      "Requirement already satisfied: alembic>=1.5.0 in c:\\users\\pedro\\dev\\github\\sprints-4-5-pb-aws-abril\\src\\python\\.venv\\lib\\site-packages (from optuna->-r requirements.txt (line 13)) (1.13.1)\n",
      "Requirement already satisfied: colorlog in c:\\users\\pedro\\dev\\github\\sprints-4-5-pb-aws-abril\\src\\python\\.venv\\lib\\site-packages (from optuna->-r requirements.txt (line 13)) (6.8.2)\n",
      "Requirement already satisfied: tensorflow-intel==2.16.1 in c:\\users\\pedro\\dev\\github\\sprints-4-5-pb-aws-abril\\src\\python\\.venv\\lib\\site-packages (from tensorflow->-r requirements.txt (line 15)) (2.16.1)\n",
      "Requirement already satisfied: absl-py>=1.0.0 in c:\\users\\pedro\\dev\\github\\sprints-4-5-pb-aws-abril\\src\\python\\.venv\\lib\\site-packages (from tensorflow-intel==2.16.1->tensorflow->-r requirements.txt (line 15)) (2.1.0)\n",
      "Requirement already satisfied: astunparse>=1.6.0 in c:\\users\\pedro\\dev\\github\\sprints-4-5-pb-aws-abril\\src\\python\\.venv\\lib\\site-packages (from tensorflow-intel==2.16.1->tensorflow->-r requirements.txt (line 15)) (1.6.3)\n",
      "Requirement already satisfied: flatbuffers>=23.5.26 in c:\\users\\pedro\\dev\\github\\sprints-4-5-pb-aws-abril\\src\\python\\.venv\\lib\\site-packages (from tensorflow-intel==2.16.1->tensorflow->-r requirements.txt (line 15)) (24.3.25)\n",
      "Requirement already satisfied: gast!=0.5.0,!=0.5.1,!=0.5.2,>=0.2.1 in c:\\users\\pedro\\dev\\github\\sprints-4-5-pb-aws-abril\\src\\python\\.venv\\lib\\site-packages (from tensorflow-intel==2.16.1->tensorflow->-r requirements.txt (line 15)) (0.5.4)\n",
      "Requirement already satisfied: h5py>=3.10.0 in c:\\users\\pedro\\dev\\github\\sprints-4-5-pb-aws-abril\\src\\python\\.venv\\lib\\site-packages (from tensorflow-intel==2.16.1->tensorflow->-r requirements.txt (line 15)) (3.11.0)\n",
      "Requirement already satisfied: libclang>=13.0.0 in c:\\users\\pedro\\dev\\github\\sprints-4-5-pb-aws-abril\\src\\python\\.venv\\lib\\site-packages (from tensorflow-intel==2.16.1->tensorflow->-r requirements.txt (line 15)) (18.1.1)\n",
      "Requirement already satisfied: ml-dtypes~=0.3.1 in c:\\users\\pedro\\dev\\github\\sprints-4-5-pb-aws-abril\\src\\python\\.venv\\lib\\site-packages (from tensorflow-intel==2.16.1->tensorflow->-r requirements.txt (line 15)) (0.3.2)\n",
      "Requirement already satisfied: opt-einsum>=2.3.2 in c:\\users\\pedro\\dev\\github\\sprints-4-5-pb-aws-abril\\src\\python\\.venv\\lib\\site-packages (from tensorflow-intel==2.16.1->tensorflow->-r requirements.txt (line 15)) (3.3.0)\n",
      "Requirement already satisfied: setuptools in c:\\users\\pedro\\dev\\github\\sprints-4-5-pb-aws-abril\\src\\python\\.venv\\lib\\site-packages (from tensorflow-intel==2.16.1->tensorflow->-r requirements.txt (line 15)) (65.5.0)\n",
      "Requirement already satisfied: six>=1.12.0 in c:\\users\\pedro\\dev\\github\\sprints-4-5-pb-aws-abril\\src\\python\\.venv\\lib\\site-packages (from tensorflow-intel==2.16.1->tensorflow->-r requirements.txt (line 15)) (1.16.0)\n",
      "Requirement already satisfied: termcolor>=1.1.0 in c:\\users\\pedro\\dev\\github\\sprints-4-5-pb-aws-abril\\src\\python\\.venv\\lib\\site-packages (from tensorflow-intel==2.16.1->tensorflow->-r requirements.txt (line 15)) (2.4.0)\n",
      "Requirement already satisfied: typing-extensions>=3.6.6 in c:\\users\\pedro\\dev\\github\\sprints-4-5-pb-aws-abril\\src\\python\\.venv\\lib\\site-packages (from tensorflow-intel==2.16.1->tensorflow->-r requirements.txt (line 15)) (4.12.2)\n",
      "Requirement already satisfied: wrapt>=1.11.0 in c:\\users\\pedro\\dev\\github\\sprints-4-5-pb-aws-abril\\src\\python\\.venv\\lib\\site-packages (from tensorflow-intel==2.16.1->tensorflow->-r requirements.txt (line 15)) (1.16.0)\n",
      "Requirement already satisfied: grpcio<2.0,>=1.24.3 in c:\\users\\pedro\\dev\\github\\sprints-4-5-pb-aws-abril\\src\\python\\.venv\\lib\\site-packages (from tensorflow-intel==2.16.1->tensorflow->-r requirements.txt (line 15)) (1.64.1)\n",
      "Requirement already satisfied: tensorboard<2.17,>=2.16 in c:\\users\\pedro\\dev\\github\\sprints-4-5-pb-aws-abril\\src\\python\\.venv\\lib\\site-packages (from tensorflow-intel==2.16.1->tensorflow->-r requirements.txt (line 15)) (2.16.2)\n",
      "Requirement already satisfied: keras>=3.0.0 in c:\\users\\pedro\\dev\\github\\sprints-4-5-pb-aws-abril\\src\\python\\.venv\\lib\\site-packages (from tensorflow-intel==2.16.1->tensorflow->-r requirements.txt (line 15)) (3.3.3)\n",
      "Requirement already satisfied: tensorflow-io-gcs-filesystem>=0.23.1 in c:\\users\\pedro\\dev\\github\\sprints-4-5-pb-aws-abril\\src\\python\\.venv\\lib\\site-packages (from tensorflow-intel==2.16.1->tensorflow->-r requirements.txt (line 15)) (0.31.0)\n",
      "Requirement already satisfied: imbalanced-learn in c:\\users\\pedro\\dev\\github\\sprints-4-5-pb-aws-abril\\src\\python\\.venv\\lib\\site-packages (from imblearn->-r requirements.txt (line 16)) (0.12.3)\n",
      "Requirement already satisfied: greenlet!=0.4.17 in c:\\users\\pedro\\dev\\github\\sprints-4-5-pb-aws-abril\\src\\python\\.venv\\lib\\site-packages (from sqlalchemy->-r requirements.txt (line 17)) (3.0.3)\n",
      "Requirement already satisfied: Mako in c:\\users\\pedro\\dev\\github\\sprints-4-5-pb-aws-abril\\src\\python\\.venv\\lib\\site-packages (from alembic>=1.5.0->optuna->-r requirements.txt (line 13)) (1.3.5)\n",
      "Requirement already satisfied: zipp>=0.5 in c:\\users\\pedro\\dev\\github\\sprints-4-5-pb-aws-abril\\src\\python\\.venv\\lib\\site-packages (from importlib-metadata<7.0,>=1.4.0->sagemaker->-r requirements.txt (line 3)) (3.19.2)\n",
      "Requirement already satisfied: decorator in c:\\users\\pedro\\dev\\github\\sprints-4-5-pb-aws-abril\\src\\python\\.venv\\lib\\site-packages (from ipython>=7.23.1->ipykernel->-r requirements.txt (line 1)) (5.1.1)\n",
      "Requirement already satisfied: jedi>=0.16 in c:\\users\\pedro\\dev\\github\\sprints-4-5-pb-aws-abril\\src\\python\\.venv\\lib\\site-packages (from ipython>=7.23.1->ipykernel->-r requirements.txt (line 1)) (0.19.1)\n",
      "Requirement already satisfied: prompt-toolkit<3.1.0,>=3.0.41 in c:\\users\\pedro\\dev\\github\\sprints-4-5-pb-aws-abril\\src\\python\\.venv\\lib\\site-packages (from ipython>=7.23.1->ipykernel->-r requirements.txt (line 1)) (3.0.47)\n",
      "Requirement already satisfied: pygments>=2.4.0 in c:\\users\\pedro\\dev\\github\\sprints-4-5-pb-aws-abril\\src\\python\\.venv\\lib\\site-packages (from ipython>=7.23.1->ipykernel->-r requirements.txt (line 1)) (2.18.0)\n",
      "Requirement already satisfied: stack-data in c:\\users\\pedro\\dev\\github\\sprints-4-5-pb-aws-abril\\src\\python\\.venv\\lib\\site-packages (from ipython>=7.23.1->ipykernel->-r requirements.txt (line 1)) (0.6.3)\n",
      "Requirement already satisfied: colorama in c:\\users\\pedro\\dev\\github\\sprints-4-5-pb-aws-abril\\src\\python\\.venv\\lib\\site-packages (from ipython>=7.23.1->ipykernel->-r requirements.txt (line 1)) (0.4.6)\n",
      "Requirement already satisfied: pywin32>=300 in c:\\users\\pedro\\dev\\github\\sprints-4-5-pb-aws-abril\\src\\python\\.venv\\lib\\site-packages (from jupyter-core!=5.0.*,>=4.12->ipykernel->-r requirements.txt (line 1)) (306)\n",
      "Requirement already satisfied: charset-normalizer<4,>=2 in c:\\users\\pedro\\dev\\github\\sprints-4-5-pb-aws-abril\\src\\python\\.venv\\lib\\site-packages (from requests->sagemaker->-r requirements.txt (line 3)) (3.3.2)\n",
      "Requirement already satisfied: idna<4,>=2.5 in c:\\users\\pedro\\dev\\github\\sprints-4-5-pb-aws-abril\\src\\python\\.venv\\lib\\site-packages (from requests->sagemaker->-r requirements.txt (line 3)) (3.7)\n",
      "Requirement already satisfied: certifi>=2017.4.17 in c:\\users\\pedro\\dev\\github\\sprints-4-5-pb-aws-abril\\src\\python\\.venv\\lib\\site-packages (from requests->sagemaker->-r requirements.txt (line 3)) (2024.6.2)\n",
      "Requirement already satisfied: jsonschema-specifications>=2023.03.6 in c:\\users\\pedro\\dev\\github\\sprints-4-5-pb-aws-abril\\src\\python\\.venv\\lib\\site-packages (from jsonschema->sagemaker->-r requirements.txt (line 3)) (2023.12.1)\n",
      "Requirement already satisfied: referencing>=0.28.4 in c:\\users\\pedro\\dev\\github\\sprints-4-5-pb-aws-abril\\src\\python\\.venv\\lib\\site-packages (from jsonschema->sagemaker->-r requirements.txt (line 3)) (0.35.1)\n",
      "Requirement already satisfied: rpds-py>=0.7.1 in c:\\users\\pedro\\dev\\github\\sprints-4-5-pb-aws-abril\\src\\python\\.venv\\lib\\site-packages (from jsonschema->sagemaker->-r requirements.txt (line 3)) (0.18.1)\n",
      "Requirement already satisfied: ppft>=1.7.6.8 in c:\\users\\pedro\\dev\\github\\sprints-4-5-pb-aws-abril\\src\\python\\.venv\\lib\\site-packages (from pathos->sagemaker->-r requirements.txt (line 3)) (1.7.6.8)\n",
      "Requirement already satisfied: dill>=0.3.8 in c:\\users\\pedro\\dev\\github\\sprints-4-5-pb-aws-abril\\src\\python\\.venv\\lib\\site-packages (from pathos->sagemaker->-r requirements.txt (line 3)) (0.3.8)\n",
      "Requirement already satisfied: pox>=0.3.4 in c:\\users\\pedro\\dev\\github\\sprints-4-5-pb-aws-abril\\src\\python\\.venv\\lib\\site-packages (from pathos->sagemaker->-r requirements.txt (line 3)) (0.3.4)\n",
      "Requirement already satisfied: multiprocess>=0.70.16 in c:\\users\\pedro\\dev\\github\\sprints-4-5-pb-aws-abril\\src\\python\\.venv\\lib\\site-packages (from pathos->sagemaker->-r requirements.txt (line 3)) (0.70.16)\n",
      "Requirement already satisfied: wheel<1.0,>=0.23.0 in c:\\users\\pedro\\dev\\github\\sprints-4-5-pb-aws-abril\\src\\python\\.venv\\lib\\site-packages (from astunparse>=1.6.0->tensorflow-intel==2.16.1->tensorflow->-r requirements.txt (line 15)) (0.43.0)\n",
      "Requirement already satisfied: parso<0.9.0,>=0.8.3 in c:\\users\\pedro\\dev\\github\\sprints-4-5-pb-aws-abril\\src\\python\\.venv\\lib\\site-packages (from jedi>=0.16->ipython>=7.23.1->ipykernel->-r requirements.txt (line 1)) (0.8.4)\n",
      "Requirement already satisfied: rich in c:\\users\\pedro\\dev\\github\\sprints-4-5-pb-aws-abril\\src\\python\\.venv\\lib\\site-packages (from keras>=3.0.0->tensorflow-intel==2.16.1->tensorflow->-r requirements.txt (line 15)) (13.7.1)\n",
      "Requirement already satisfied: namex in c:\\users\\pedro\\dev\\github\\sprints-4-5-pb-aws-abril\\src\\python\\.venv\\lib\\site-packages (from keras>=3.0.0->tensorflow-intel==2.16.1->tensorflow->-r requirements.txt (line 15)) (0.0.8)\n",
      "Requirement already satisfied: optree in c:\\users\\pedro\\dev\\github\\sprints-4-5-pb-aws-abril\\src\\python\\.venv\\lib\\site-packages (from keras>=3.0.0->tensorflow-intel==2.16.1->tensorflow->-r requirements.txt (line 15)) (0.11.0)\n",
      "Requirement already satisfied: wcwidth in c:\\users\\pedro\\dev\\github\\sprints-4-5-pb-aws-abril\\src\\python\\.venv\\lib\\site-packages (from prompt-toolkit<3.1.0,>=3.0.41->ipython>=7.23.1->ipykernel->-r requirements.txt (line 1)) (0.2.13)\n",
      "Requirement already satisfied: markdown>=2.6.8 in c:\\users\\pedro\\dev\\github\\sprints-4-5-pb-aws-abril\\src\\python\\.venv\\lib\\site-packages (from tensorboard<2.17,>=2.16->tensorflow-intel==2.16.1->tensorflow->-r requirements.txt (line 15)) (3.6)\n",
      "Requirement already satisfied: tensorboard-data-server<0.8.0,>=0.7.0 in c:\\users\\pedro\\dev\\github\\sprints-4-5-pb-aws-abril\\src\\python\\.venv\\lib\\site-packages (from tensorboard<2.17,>=2.16->tensorflow-intel==2.16.1->tensorflow->-r requirements.txt (line 15)) (0.7.2)\n",
      "Requirement already satisfied: werkzeug>=1.0.1 in c:\\users\\pedro\\dev\\github\\sprints-4-5-pb-aws-abril\\src\\python\\.venv\\lib\\site-packages (from tensorboard<2.17,>=2.16->tensorflow-intel==2.16.1->tensorflow->-r requirements.txt (line 15)) (3.0.3)\n",
      "Requirement already satisfied: MarkupSafe>=0.9.2 in c:\\users\\pedro\\dev\\github\\sprints-4-5-pb-aws-abril\\src\\python\\.venv\\lib\\site-packages (from Mako->alembic>=1.5.0->optuna->-r requirements.txt (line 13)) (2.1.5)\n",
      "Requirement already satisfied: executing>=1.2.0 in c:\\users\\pedro\\dev\\github\\sprints-4-5-pb-aws-abril\\src\\python\\.venv\\lib\\site-packages (from stack-data->ipython>=7.23.1->ipykernel->-r requirements.txt (line 1)) (2.0.1)\n",
      "Requirement already satisfied: asttokens>=2.1.0 in c:\\users\\pedro\\dev\\github\\sprints-4-5-pb-aws-abril\\src\\python\\.venv\\lib\\site-packages (from stack-data->ipython>=7.23.1->ipykernel->-r requirements.txt (line 1)) (2.4.1)\n",
      "Requirement already satisfied: pure-eval in c:\\users\\pedro\\dev\\github\\sprints-4-5-pb-aws-abril\\src\\python\\.venv\\lib\\site-packages (from stack-data->ipython>=7.23.1->ipykernel->-r requirements.txt (line 1)) (0.2.2)\n",
      "Requirement already satisfied: markdown-it-py>=2.2.0 in c:\\users\\pedro\\dev\\github\\sprints-4-5-pb-aws-abril\\src\\python\\.venv\\lib\\site-packages (from rich->keras>=3.0.0->tensorflow-intel==2.16.1->tensorflow->-r requirements.txt (line 15)) (3.0.0)\n",
      "Requirement already satisfied: mdurl~=0.1 in c:\\users\\pedro\\dev\\github\\sprints-4-5-pb-aws-abril\\src\\python\\.venv\\lib\\site-packages (from markdown-it-py>=2.2.0->rich->keras>=3.0.0->tensorflow-intel==2.16.1->tensorflow->-r requirements.txt (line 15)) (0.1.2)\n",
      "Note: you may need to restart the kernel to use updated packages.\n"
     ]
    }
   ],
   "source": [
    "%pip install -r requirements.txt"
   ]
  },
  {
   "cell_type": "markdown",
   "metadata": {},
   "source": [
    "Algumas verificações das bibliotecas instaladas."
   ]
  },
  {
   "cell_type": "code",
   "execution_count": 5,
   "metadata": {},
   "outputs": [
    {
     "name": "stdout",
     "output_type": "stream",
     "text": [
      "1.34.131\n",
      "2.224.0\n",
      "1.5.0\n",
      "2.1.0\n"
     ]
    }
   ],
   "source": [
    "import boto3\n",
    "import sagemaker\n",
    "import sklearn\n",
    "import xgboost\n",
    "import logging\n",
    "\n",
    "# Suppress mensagens INFO para um output mais atraente\n",
    "logging.getLogger('sagemaker.config').setLevel(logging.WARNING)\n",
    "\n",
    "print(boto3.__version__)\n",
    "print(sagemaker.__version__)\n",
    "print(sklearn.__version__)\n",
    "print(xgboost.__version__)"
   ]
  }
 ],
 "metadata": {
  "kernelspec": {
   "display_name": ".venv",
   "language": "python",
   "name": "python3"
  },
  "language_info": {
   "codemirror_mode": {
    "name": "ipython",
    "version": 3
   },
   "file_extension": ".py",
   "mimetype": "text/x-python",
   "name": "python",
   "nbconvert_exporter": "python",
   "pygments_lexer": "ipython3",
   "version": "3.11.4"
  }
 },
 "nbformat": 4,
 "nbformat_minor": 2
}
